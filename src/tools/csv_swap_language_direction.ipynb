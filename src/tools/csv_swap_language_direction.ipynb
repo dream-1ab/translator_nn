{
 "cells": [
  {
   "cell_type": "code",
   "execution_count": null,
   "id": "4e0bddb3",
   "metadata": {},
   "outputs": [
    {
     "name": "stdout",
     "output_type": "stream",
     "text": [
      "ok\n"
     ]
    }
   ],
   "source": [
    "import csv\n",
    "from pathlib import Path\n",
    "\n",
    "file = Path.cwd().parent.parent / \".data\"\n",
    "\n",
    "rows = []\n",
    "with open(file / \"ug_en.csv\", \"r\") as f:\n",
    "    reader = csv.reader(f)\n",
    "    for a, b in reader:\n",
    "        rows.append({\"a\": b, \"b\": a})\n",
    "\n",
    "with open(file / \"en_ug.tsv\", \"w\") as f:\n",
    "    writer = csv.DictWriter(f, [\"a\", \"b\"], delimiter=\"\\t\")\n",
    "    writer.writerows(rows)\n",
    "\n",
    "print(\"ok\")\n",
    "\n"
   ]
  }
 ],
 "metadata": {
  "kernelspec": {
   "display_name": "translator_nn",
   "language": "python",
   "name": "python3"
  },
  "language_info": {
   "codemirror_mode": {
    "name": "ipython",
    "version": 3
   },
   "file_extension": ".py",
   "mimetype": "text/x-python",
   "name": "python",
   "nbconvert_exporter": "python",
   "pygments_lexer": "ipython3",
   "version": "3.13.2"
  }
 },
 "nbformat": 4,
 "nbformat_minor": 5
}
